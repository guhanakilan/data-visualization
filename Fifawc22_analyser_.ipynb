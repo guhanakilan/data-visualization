{
  "nbformat": 4,
  "nbformat_minor": 0,
  "metadata": {
    "colab": {
      "private_outputs": true,
      "provenance": [],
      "authorship_tag": "ABX9TyO0qYe7v/ZW0Oh9ZoUQDcoY",
      "include_colab_link": true
    },
    "kernelspec": {
      "name": "python3",
      "display_name": "Python 3"
    },
    "language_info": {
      "name": "python"
    }
  },
  "cells": [
    {
      "cell_type": "markdown",
      "metadata": {
        "id": "view-in-github",
        "colab_type": "text"
      },
      "source": [
        "<a href=\"https://colab.research.google.com/github/guhanakilan/data-visualization/blob/main/Fifawc22_analyser_.ipynb\" target=\"_parent\"><img src=\"https://colab.research.google.com/assets/colab-badge.svg\" alt=\"Open In Colab\"/></a>"
      ]
    },
    {
      "cell_type": "code",
      "source": [],
      "metadata": {
        "id": "jnJRLOqpep1j"
      },
      "execution_count": null,
      "outputs": []
    },
    {
      "cell_type": "code",
      "execution_count": null,
      "metadata": {
        "id": "d3QB2txlpALd"
      },
      "outputs": [],
      "source": [
        "import numpy as np\n",
        "import pandas as pd\n",
        "import matplotlib.pyplot as plt\n",
        "import seaborn as sns\n",
        "import plotly.express as px"
      ]
    },
    {
      "cell_type": "code",
      "source": [
        "df = pd.read_csv('/content/Fifa_world_cup_matches.csv')\n",
        "df.head()"
      ],
      "metadata": {
        "id": "MsSjqb71UAoi"
      },
      "execution_count": null,
      "outputs": []
    },
    {
      "cell_type": "code",
      "source": [
        "df.info()"
      ],
      "metadata": {
        "id": "Bu_5q8-1UizX"
      },
      "execution_count": null,
      "outputs": []
    },
    {
      "cell_type": "code",
      "source": [
        "fix_name = {'completed defensive line breaksteam1': 'completed defensive line breaks team1',\n",
        "           'attempts inside the penalty area  team2': 'attempts inside the penalty area team2',\n",
        "           'completed line breaksteam1': 'completed line breaks team1',\n",
        "           'completed defensive line breaksteam1': 'completed defensive line breaks team1',\n",
        "           'attempts inside the penalty area  team2': 'attempts inside the penalty area team2',\n",
        "           'completed line breaksteam1': 'completed line breaks team1',\n",
        "           'completed defensive line breaksteam1': 'completed defensive line breaks team1'}\n",
        "df = df.rename(fix_name, axis = 1)"
      ],
      "metadata": {
        "id": "jZNnnc4XUrKR"
      },
      "execution_count": null,
      "outputs": []
    },
    {
      "cell_type": "code",
      "source": [
        "df['possession team1'] = df['possession team1'].str[:-1].astype('float64')\n",
        "df['possession team2'] = df['possession team2'].str[:-1].astype('float64')\n",
        "df['possession in contest'] = df['possession in contest'].str[:-1].astype('float64')"
      ],
      "metadata": {
        "id": "SKonnqMKU5vv"
      },
      "execution_count": null,
      "outputs": []
    },
    {
      "cell_type": "code",
      "source": [
        "df['conversion rate team1'] =  np.round(df['number of goals team1'] / df['total attempts team1'], 2).fillna(0)\n",
        "df['conversion rate team2'] = np.round(df['number of goals team2'] / df['total attempts team2'], 2).fillna(0)"
      ],
      "metadata": {
        "id": "YfocDGKqVFHF"
      },
      "execution_count": null,
      "outputs": []
    },
    {
      "cell_type": "code",
      "source": [
        "team_1_col = []\n",
        "team_2_col = []\n",
        "same_col = []\n",
        "for col in df.columns:\n",
        "    if '1' in col:\n",
        "        team_1_col.append(col)\n",
        "    elif '2' in col:\n",
        "        team_2_col.append(col)\n",
        "    else:\n",
        "        same_col.append(col)"
      ],
      "metadata": {
        "id": "nv5Slw-yVG2U"
      },
      "execution_count": null,
      "outputs": []
    },
    {
      "cell_type": "code",
      "source": [
        "countries =set()\n",
        "ls = df['team1'].unique().tolist() + df['team2'].unique().tolist()\n",
        "for c in ls:\n",
        "    countries.add(c)\n",
        "\n",
        "def create_country_stat(country):\n",
        "    team_1 = df[df['team1'] == country]\n",
        "    t1 = dict()\n",
        "    for c in team_1_col:\n",
        "        t1[c] = c[:-1]\n",
        "    for c in team_2_col:\n",
        "        t1[c] = c[:-1] + '_opponent'\n",
        "    team_1 = team_1.rename(columns = t1)\n",
        "\n",
        "    team_2 = df[df['team2'] == country]\n",
        "    t2 = dict()\n",
        "    for c in team_2_col:\n",
        "        t2[c] = c[:-1]\n",
        "    for c in team_1_col:\n",
        "        t2[c] = c[:-1] + '_opponent'\n",
        "    team_2 = team_2.rename(columns = t2)\n",
        "\n",
        "    team = pd.concat([team_1, team_2], axis = 0)\n",
        "    team.reset_index(drop=True, inplace = True)\n",
        "    return team"
      ],
      "metadata": {
        "id": "XAkB1B9iVawg"
      },
      "execution_count": null,
      "outputs": []
    },
    {
      "cell_type": "code",
      "source": [
        "country_collection = dict()\n",
        "for country in countries:\n",
        "    country_df = create_country_stat(country)\n",
        "    country_collection[country] = country_df"
      ],
      "metadata": {
        "id": "tagtgsJEWDve"
      },
      "execution_count": null,
      "outputs": []
    },
    {
      "cell_type": "code",
      "source": [
        "def change_label(stat):\n",
        "    stat_ls = stat.split(' ')\n",
        "    if 'team_opponent' in stat_ls:\n",
        "        stat_ls.pop()\n",
        "        stat_ls.insert(0, \"opponent's\")\n",
        "    elif 'team' in stat_ls:\n",
        "        stat_ls.pop()\n",
        "        stat_ls.insert(0, \"team's\")\n",
        "    return ' '.join(stat_ls)"
      ],
      "metadata": {
        "id": "MfIPjqvOW6F0"
      },
      "execution_count": null,
      "outputs": []
    },
    {
      "cell_type": "code",
      "source": [
        "import matplotlib.patches as mpatches\n",
        "import matplotlib.pyplot as plt\n",
        "\n",
        "def plot_paired_team_stats(stat1=None, stat2=None, y_min=None, y_max=None, color1=sns.color_palette(\"tab10\")[0], color2=sns.color_palette(\"tab10\")[3]):\n",
        "    def plot(team, stat1, stat2, ax, y_min, y_max, color1, color2):\n",
        "        name = team\n",
        "        team = country_collection[team]\n",
        "\n",
        "        x = np.arange(len(team))\n",
        "        # Plot first stat\n",
        "        ax.bar(x-0.2, team[stat1], color=color1, width=0.35, label = stat1)\n",
        "               # Plot second stat\n",
        "        ax.bar(x+0.2, team[stat2], color=color2, width=0.35, label = stat2)\n",
        "\n",
        "        ax.set_ylim(y_min, y_max)\n",
        "        ax.set_ylabel(stat1[:-5])\n",
        "        # Set x-ticks and labels and titles\n",
        "        ax.set_xticks(x)\n",
        "        ax.set_xticklabels(team['team_opponent'], rotation=45)\n",
        "        ax.set_title(f'{name} goals scored and conceded versus')\n",
        "\n",
        "        # Set legend\n",
        "        patch1 = mpatches.Patch(color=color1, label= 'team')\n",
        "        patch2 = mpatches.Patch(color=color2, label='opponent')\n",
        "        ax.legend(handles=[patch1, patch2])\n",
        "\n",
        "        # Adjust layout\n",
        "        plt.subplots_adjust(hspace = 0.5 ,wspace=0.25)\n",
        "\n",
        "\n",
        "\n",
        "    fig, axes = plt.subplots(8, 4, figsize=(20, 40))\n",
        "    for i, country in enumerate(country_collection.keys()):\n",
        "        plot(team=country, stat1=stat1, stat2=stat2, ax=axes[i//4, i%4], y_min=y_min, y_max=y_max, color1=color1, color2=color2)\n",
        "    plt.show()"
      ],
      "metadata": {
        "id": "LxhfF-prW8zg"
      },
      "execution_count": null,
      "outputs": []
    },
    {
      "cell_type": "code",
      "source": [
        "def plot_team_stats_single(team, stat, ax, y_min, y_max, color = sns.color_palette(\"tab10\")[0] ):\n",
        "    name = team\n",
        "    team = country_collection[team]\n",
        "    sns.barplot(data = team, x = team.index, y = stat, color = color, width = 0.5, ax = ax)\n",
        "    if ax:\n",
        "        ax.bar_label(ax.containers[0], fontsize=10)\n",
        "        ax.set_xticks(ax.get_xticks(), labels = team['team_opponent'], rotation = 45)\n",
        "        ax.set_xlabel(f\"{name} versus\", fontsize = 15)\n",
        "        ax.set_ylabel(stat)\n",
        "        ax.set_ylim(y_min, y_max)"
      ],
      "metadata": {
        "id": "QeLkRVN7Xsan"
      },
      "execution_count": null,
      "outputs": []
    },
    {
      "cell_type": "code",
      "source": [
        "def plot_team_stats(stat = None, y_min = None, y_max = None, color = sns.color_palette(\"tab10\")[0]):\n",
        "    def plot(team, stat, ax, y_min, y_max ):\n",
        "        name = team\n",
        "        team = country_collection[team]\n",
        "        sns.barplot(data = team, x = team.index, y = stat, color = color, width = 0.5, ax = ax)\n",
        "        if ax:\n",
        "            ax.bar_label(ax.containers[0], fontsize=10)\n",
        "            ax.set_xticks(ax.get_xticks(), labels = team['team_opponent'], rotation = 45)\n",
        "            ax.set_xlabel(f\"{name} versus\", fontsize = 15)\n",
        "            ax.set_ylabel(stat)\n",
        "            ax.set_ylim(y_min, y_max)\n",
        "\n",
        "    fig, axes = plt.subplots(8,4, figsize = (20,40))\n",
        "    for i, country in enumerate(country_collection.keys()):\n",
        "        plot(team = country, stat = stat, ax= axes[i//4, i%4], y_min= y_min, y_max = y_max)\n",
        "    fig.subplots_adjust(hspace = 1, wspace = 0.25)"
      ],
      "metadata": {
        "id": "Y2I8QPAKX0xx"
      },
      "execution_count": null,
      "outputs": []
    },
    {
      "cell_type": "code",
      "source": [
        "def plot_avg_stats(stat, top_n = 5):\n",
        "\n",
        "    # Get mean\n",
        "    def teamwise_avg_stats(country_df, stat = None):\n",
        "        return np.round(country_df[stat].mean(),1)\n",
        "\n",
        "    # Make Series\n",
        "    def make_avg_series(stat, top_n = top_n):\n",
        "        stats_avg = dict()\n",
        "        for country_name, country_df in country_collection.items():\n",
        "            avg = teamwise_avg_stats(country_df, stat = stat)\n",
        "            stats_avg[country_name] = avg\n",
        "        stats_avg_series = pd.Series(stats_avg.values(),stats_avg.keys()).sort_values(ascending = False).head(top_n)\n",
        "        return stats_avg_series\n",
        "    stats_avg_series = make_avg_series(stat)\n",
        "    # Plot\n",
        "    def plot(data, xlabel = None):\n",
        "        '''\n",
        "        data = make_avg_series() return,\n",
        "        xlabel = 'name of the stats' like 'possession team'\n",
        "        '''\n",
        "        sns.set_palette('pastel')\n",
        "        fig, ax = plt.subplots(1,1)\n",
        "        sns.barplot(data = data.reset_index(), x = data.values, y =data.index, ax = ax, orient = 'h')\n",
        "        ax.bar_label(ax.containers[0], fontsize=10)\n",
        "        ax.set_ylabel('Team')\n",
        "        ax.set_xlabel(xlabel)\n",
        "        ax.set_title(xlabel, fontsize = 20)\n",
        "\n",
        "        ax.set_yticks(range(len(data.index)),data.index)\n",
        "\n",
        "    # call the plot function\n",
        "    plot(stats_avg_series, xlabel = change_label(stat) + ' per match')\n",
        "    plt.show()"
      ],
      "metadata": {
        "id": "S9EZvpnjX1ue"
      },
      "execution_count": null,
      "outputs": []
    },
    {
      "cell_type": "code",
      "source": [
        "plot_team_stats('possession team', y_min = 0, y_max = 100)"
      ],
      "metadata": {
        "id": "6wpSowE2Y20o"
      },
      "execution_count": null,
      "outputs": []
    },
    {
      "cell_type": "code",
      "source": [
        "plot_avg_stats(stat = 'possession team', top_n = 10)"
      ],
      "metadata": {
        "id": "NrqeHL-_ZGdX"
      },
      "execution_count": null,
      "outputs": []
    },
    {
      "cell_type": "code",
      "source": [
        "plot_paired_team_stats(stat1='number of goals team', stat2='number of goals team_opponent', y_min=0, y_max=10)"
      ],
      "metadata": {
        "id": "h6Pl5ku0ZMl4"
      },
      "execution_count": null,
      "outputs": []
    },
    {
      "cell_type": "code",
      "source": [
        "plot_avg_stats(stat = 'number of goals team', top_n = 10)"
      ],
      "metadata": {
        "id": "J9SjvvYgZhF3"
      },
      "execution_count": null,
      "outputs": []
    },
    {
      "cell_type": "code",
      "source": [
        "plot_avg_stats(stat = 'number of goals team_opponent', top_n = 10)"
      ],
      "metadata": {
        "id": "DXbDJW_LZnsg"
      },
      "execution_count": null,
      "outputs": []
    },
    {
      "cell_type": "code",
      "source": [
        "plot_avg_stats(stat = 'total attempts team', top_n = 10)"
      ],
      "metadata": {
        "id": "zkOnBAFNZq0x"
      },
      "execution_count": null,
      "outputs": []
    },
    {
      "cell_type": "code",
      "source": [
        "plot_avg_stats(stat = 'on target attempts team', top_n = 10)"
      ],
      "metadata": {
        "id": "arVo1FrsZthY"
      },
      "execution_count": null,
      "outputs": []
    },
    {
      "cell_type": "code",
      "source": [
        "plot_avg_stats(stat = 'penalties scored team', top_n = 10)"
      ],
      "metadata": {
        "id": "qIOUGmlsZwf-"
      },
      "execution_count": null,
      "outputs": []
    },
    {
      "cell_type": "code",
      "source": [
        "plot_avg_stats(stat ='defensive pressures applied team', top_n = 10)"
      ],
      "metadata": {
        "id": "nsHlf4_qZ1Cm"
      },
      "execution_count": null,
      "outputs": []
    },
    {
      "cell_type": "code",
      "source": [
        "plot_avg_stats('fouls against team', top_n = 10)"
      ],
      "metadata": {
        "id": "XRnPJRT1Z4wn"
      },
      "execution_count": null,
      "outputs": []
    },
    {
      "cell_type": "code",
      "source": [
        "plot_avg_stats('yellow cards team', top_n = 10)"
      ],
      "metadata": {
        "id": "32-1dKIyZ7jm"
      },
      "execution_count": null,
      "outputs": []
    },
    {
      "cell_type": "code",
      "source": [
        "final_df = pd.DataFrame()\n",
        "for c,c_df in country_collection.items():\n",
        "    final_df = pd.concat([final_df, c_df], axis = 0)\n",
        "final_df.head()"
      ],
      "metadata": {
        "id": "5njpfVHZZ_09"
      },
      "execution_count": null,
      "outputs": []
    }
  ]
}